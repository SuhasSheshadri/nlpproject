{
 "cells": [
  {
   "cell_type": "code",
   "execution_count": 1,
   "metadata": {},
   "outputs": [],
   "source": [
    "import pandas as pd\n",
    "import numpy as np"
   ]
  },
  {
   "cell_type": "code",
   "execution_count": 2,
   "metadata": {},
   "outputs": [],
   "source": [
    "def read_expert(filename):\n",
    "    data = pd.read_csv(filename, sep=\":\", header=None)\n",
    "    data.columns = [\"word\", \"expert_score\"]\n",
    "    data.set_index('word',inplace=True)\n",
    "    return data"
   ]
  },
  {
   "cell_type": "code",
   "execution_count": 3,
   "metadata": {},
   "outputs": [],
   "source": [
    "def read_novice(filename):\n",
    "    data = pd.read_csv(filename, sep=\":\", header=None)\n",
    "    data.columns = [\"word\", \"novice_score\"]\n",
    "    data.set_index('word',inplace=True)\n",
    "    return data"
   ]
  },
  {
   "cell_type": "code",
   "execution_count": 4,
   "metadata": {},
   "outputs": [],
   "source": [
    "def cal_diff(novice_file,expert_file):\n",
    "    d1 = read_expert(expert_file)\n",
    "    d2 = read_novice(novice_file)\n",
    "    d3 = d1.join(d2)\n",
    "    d3['difference'] = d3['expert_score']-d3['novice_score']\n",
    "    return d3"
   ]
  },
  {
   "cell_type": "code",
   "execution_count": 8,
   "metadata": {},
   "outputs": [
    {
     "name": "stdout",
     "output_type": "stream",
     "text": [
      "             expert_score  novice_score  difference\n",
      "word                                               \n",
      "baddy            0.088971     -0.066456    0.155427\n",
      "backcourt        0.013779     -0.019157    0.032936\n",
      "smash            0.087908      0.030467    0.057441\n",
      "baseline        -0.007550      0.034566   -0.042116\n",
      "grip             0.078406      0.070017    0.008389\n",
      "short           -0.014641     -0.027877    0.013235\n",
      "carry           -0.047383     -0.036427   -0.010957\n",
      "net              0.005296      0.011196   -0.005900\n",
      "feathers        -0.020810      0.010192   -0.031002\n",
      "racquet          0.304374      0.368767   -0.064393\n",
      "court            0.106267      0.139110   -0.032844\n",
      "fault           -0.078080     -0.058369   -0.019711\n",
      "doubles          0.359887      0.220203    0.139684\n",
      "rally            0.078747      0.040059    0.038688\n",
      "yonex            0.460540      0.355053    0.105487\n",
      "lets            -0.011564      0.000302   -0.011865\n",
      "drop            -0.044313      0.012469   -0.056783\n",
      "flick            0.014548      0.007214    0.007334\n",
      "stroke           0.122458      0.035892    0.086567\n",
      "service          0.003616     -0.035529    0.039145\n",
      "thomas          -0.015190     -0.052831    0.037641\n",
      "feather         -0.037423     -0.028117   -0.009306\n",
      "spin             0.051025     -0.003301    0.054327\n",
      "tumbling         0.132432      0.179733   -0.047301\n",
      "string           0.084626      0.055254    0.029372\n",
      "referee          0.100232      0.091250    0.008982\n",
      "drive           -0.027968     -0.052857    0.024889\n",
      "serve           -0.075152     -0.011321   -0.063831\n",
      "alley            0.021388      0.118092   -0.096704\n",
      "let             -0.006482     -0.018326    0.011843\n",
      "singles          0.200324      0.180143    0.020181\n",
      "deception       -0.025300     -0.052580    0.027280\n",
      "uber             0.108252      0.010947    0.097305\n",
      "ace              0.085636      0.065606    0.020030\n",
      "shuttlecock      0.263749      0.213386    0.050362\n",
      "saina            0.310140      0.099936    0.210203\n",
      "dribble          0.115803      0.145386   -0.029583\n",
      "hidayat          0.291406      0.164274    0.127132\n",
      "shot             0.042562      0.013841    0.028722\n"
     ]
    }
   ],
   "source": [
    "p = cal_diff('cosine0/cos_badminton_novice0.txt','cosine0/cos_badminton_expert0.txt')\n",
    "print(p)"
   ]
  },
  {
   "cell_type": "code",
   "execution_count": 24,
   "metadata": {},
   "outputs": [
    {
     "name": "stdout",
     "output_type": "stream",
     "text": [
      "               expert_score  novice_score  difference\n",
      "word                                                 \n",
      "choreo             0.385145      0.300192    0.084953\n",
      "exercise           0.130692      0.138849   -0.008157\n",
      "ballet             0.562253      0.548137    0.014116\n",
      "bellydance         0.487017      0.448822    0.038196\n",
      "music              0.607736      0.603579    0.004157\n",
      "dabke              0.492743      0.412386    0.080357\n",
      "rhythm             0.444880      0.447916   -0.003036\n",
      "choreographer      0.469920      0.472765   -0.002845\n",
      "kathak             0.488558      0.453780    0.034778\n",
      "disco              0.543786      0.553291   -0.009505\n",
      "footloose          0.357687      0.363671   -0.005984\n",
      "hop                0.434545      0.445739   -0.011194\n",
      "dancefloor         0.410191      0.430581   -0.020390\n",
      "culture            0.243249      0.235641    0.007607\n",
      "lavani             0.472191      0.433843    0.038349\n",
      "sneakers           0.272974      0.275443   -0.002469\n",
      "stepup            -0.004203     -0.019435    0.015233\n",
      "therapy            0.173971      0.160585    0.013386\n",
      "sweat              0.279647      0.265511    0.014136\n",
      "natyam             0.482146      0.457617    0.024529\n",
      "breakdance         0.565635      0.534869    0.030766\n",
      "steps              0.092101      0.096573   -0.004472\n",
      "folkdance          0.491128      0.436856    0.054272\n",
      "tap                0.355372      0.367375   -0.012003\n",
      "salsa              0.569952      0.552181    0.017771\n",
      "acrobatic          0.441017      0.424783    0.016234\n",
      "tango              0.554590      0.542738    0.011851\n",
      "choreography       0.594194      0.583042    0.011152\n",
      "streetdance        0.334153      0.343736   -0.009583\n",
      "Average            0.404596      0.390037    0.014559\n"
     ]
    }
   ],
   "source": [
    "p1 = cal_average('avg_dance_novice.txt','avg_dance_expert.txt')\n",
    "print(p1)"
   ]
  },
  {
   "cell_type": "code",
   "execution_count": 25,
   "metadata": {},
   "outputs": [
    {
     "name": "stdout",
     "output_type": "stream",
     "text": [
      "             expert_score  novice_score  difference\n",
      "word                                               \n",
      "gun              0.314185      0.320409   -0.006223\n",
      "doom             0.198873      0.174199    0.024674\n",
      "multiplayer      0.364686      0.324479    0.040206\n",
      "precise          0.007773      0.038485   -0.030712\n",
      "bots             0.182521      0.152912    0.029609\n",
      "weapons          0.137847      0.121191    0.016657\n",
      "military         0.042977      0.031456    0.011521\n",
      "first            0.031851      0.039627   -0.007776\n",
      "computer         0.133053      0.129985    0.003068\n",
      "playstation      0.245370      0.243139    0.002231\n",
      "twitch           0.236922      0.250100   -0.013178\n",
      "deathmatch       0.305516      0.286165    0.019351\n",
      "team             0.230399      0.227387    0.003012\n",
      "halo             0.240063      0.235609    0.004454\n",
      "looking          0.093801      0.089225    0.004576\n",
      "mission          0.057465      0.045122    0.012343\n",
      "unreal           0.232291      0.187611    0.044680\n",
      "player           0.396754      0.400587   -0.003833\n",
      "terrorist        0.105858      0.118909   -0.013051\n",
      "display          0.038758      0.024546    0.014212\n",
      "power           -0.013586     -0.003171   -0.010414\n",
      "tournament       0.121634      0.111491    0.010143\n",
      "levels           0.038824      0.040905   -0.002081\n",
      "rifle            0.335727      0.330183    0.005544\n",
      "xbox             0.235478      0.241540   -0.006062\n",
      "fps              0.302821      0.263444    0.039377\n",
      "mode             0.252745      0.221499    0.031245\n",
      "gameplay         0.375821      0.353979    0.021842\n",
      "point            0.094930      0.098889   -0.003960\n",
      "features         0.036447      0.019282    0.017165\n",
      "games            0.284821      0.279846    0.004975\n",
      "map              0.085390      0.089296   -0.003907\n",
      "quake            0.175011      0.149109    0.025902\n",
      "engine           0.231315      0.212986    0.018329\n",
      "bomb             0.143031      0.138012    0.005020\n",
      "movement         0.079385      0.078370    0.001015\n",
      "space            0.068142      0.073731   -0.005589\n",
      "players          0.240660      0.241994   -0.001334\n",
      "person           0.294748      0.289764    0.004984\n",
      "reaction         0.115470      0.120832   -0.005362\n",
      "strike           0.118468      0.134235   -0.015767\n",
      "chief           -0.035521     -0.030146   -0.005375\n",
      "enemies          0.136958      0.130811    0.006147\n",
      "Average          0.170132      0.163442    0.006690\n"
     ]
    }
   ],
   "source": [
    "p3 = cal_average('avg_shooter_novice.txt','avg_shooter_expert.txt')\n",
    "print(p3)"
   ]
  },
  {
   "cell_type": "code",
   "execution_count": 26,
   "metadata": {},
   "outputs": [
    {
     "name": "stdout",
     "output_type": "stream",
     "text": [
      "                  expert_score  novice_score  difference\n",
      "word                                                    \n",
      "response              0.146478      0.117241    0.029237\n",
      "ssri                  0.396456      0.335834    0.060621\n",
      "serotonin             0.227780      0.213105    0.014674\n",
      "mental                0.453167      0.470056   -0.016888\n",
      "sleep                 0.210325      0.207879    0.002446\n",
      "ruminating            0.169599      0.128427    0.041172\n",
      "exposure              0.177568      0.179839   -0.002272\n",
      "psychosurgery         0.501127      0.536911   -0.035784\n",
      "antidepressants       0.410108      0.385948    0.024160\n",
      "inhibitor             0.189134      0.183243    0.005891\n",
      "ruminate              0.138526      0.084695    0.053831\n",
      "freud                 0.511058      0.492881    0.018177\n",
      "ruminates             0.148895      0.108548    0.040347\n",
      "trichotillomania      0.346799      0.279775    0.067024\n",
      "addiction             0.374520      0.365218    0.009302\n",
      "brooding              0.065900      0.044118    0.021783\n",
      "ect                   0.461091      0.484227   -0.023137\n",
      "reinforcement         0.250573      0.225128    0.025445\n",
      "cbt                   0.577491      0.558426    0.019065\n",
      "stimulus              0.254689      0.232481    0.022207\n",
      "medication            0.387768      0.376374    0.011394\n",
      "conditioning          0.151068      0.160049   -0.008980\n",
      "health                0.321920      0.335189   -0.013269\n",
      "placebo               0.330031      0.300292    0.029739\n",
      "ocd                   0.421403      0.436894   -0.015490\n",
      "ruminated            -0.050677     -0.071725    0.021048\n",
      "Average               0.291261      0.275810    0.015452\n"
     ]
    }
   ],
   "source": [
    "p4 = cal_average('avg_psychotherapy_novice.txt','avg_psychotherapy_expert.txt')\n",
    "print(p4)"
   ]
  },
  {
   "cell_type": "code",
   "execution_count": null,
   "metadata": {},
   "outputs": [],
   "source": []
  }
 ],
 "metadata": {
  "kernelspec": {
   "display_name": "Python 3",
   "language": "python",
   "name": "python3"
  },
  "language_info": {
   "codemirror_mode": {
    "name": "ipython",
    "version": 3
   },
   "file_extension": ".py",
   "mimetype": "text/x-python",
   "name": "python",
   "nbconvert_exporter": "python",
   "pygments_lexer": "ipython3",
   "version": "3.6.4"
  }
 },
 "nbformat": 4,
 "nbformat_minor": 2
}
