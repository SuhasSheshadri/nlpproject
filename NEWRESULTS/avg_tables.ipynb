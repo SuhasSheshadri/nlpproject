{
 "cells": [
  {
   "cell_type": "code",
   "execution_count": 1,
   "metadata": {},
   "outputs": [],
   "source": [
    "import pandas as pd\n",
    "import numpy as np"
   ]
  },
  {
   "cell_type": "code",
   "execution_count": 10,
   "metadata": {},
   "outputs": [],
   "source": [
    "def read_f1(filename):\n",
    "    data = pd.read_csv(filename, sep=\":\", header=None)\n",
    "    data.columns = [\"word\", \"expert_score\"]\n",
    "    data.set_index('word',inplace=True)\n",
    "    return data"
   ]
  },
  {
   "cell_type": "code",
   "execution_count": 11,
   "metadata": {},
   "outputs": [],
   "source": [
    "def read_f2(filename):\n",
    "    data = pd.read_csv(filename, sep=\":\", header=None)\n",
    "    data.columns = [\"word\", \"novice_score\"]\n",
    "    data.set_index('word',inplace=True)\n",
    "    return data"
   ]
  },
  {
   "cell_type": "code",
   "execution_count": 14,
   "metadata": {},
   "outputs": [],
   "source": [
    "def cal_diff(novice_file,expert_file):\n",
    "    d1 = read_f1(expert_file)\n",
    "    d2 = read_f2(novice_file)\n",
    "    d3 = d1.join(d2)\n",
    "    d3['difference'] = d3['expert_score']-d3['novice_score']\n",
    "    return d3"
   ]
  },
  {
   "cell_type": "code",
   "execution_count": 15,
   "metadata": {},
   "outputs": [],
   "source": [
    "#for novice"
   ]
  },
  {
   "cell_type": "code",
   "execution_count": 20,
   "metadata": {},
   "outputs": [
    {
     "name": "stdout",
     "output_type": "stream",
     "text": [
      "                e0-e1     e1-e2     e2-e3     e3-e4\n",
      "word                                               \n",
      "drive        0.037283 -0.046550  0.010663  0.012914\n",
      "drop        -0.014116  0.003535  0.002339  0.002961\n",
      "fault        0.025429 -0.039463 -0.005934  0.002770\n",
      "stroke       0.007913 -0.001976  0.001612  0.009301\n",
      "thomas       0.032315  0.029656 -0.014886 -0.011986\n",
      "baseline     0.003397 -0.016733  0.009061  0.005247\n",
      "doubles     -0.009122  0.005022  0.018015  0.027880\n",
      "carry        0.024380 -0.022305 -0.001387  0.006392\n",
      "shot         0.002508 -0.011887  0.015107  0.003602\n",
      "lets        -0.023751 -0.013744  0.002134  0.001945\n",
      "spin         0.050641 -0.052660  0.011843  0.001020\n",
      "alley       -0.028445  0.001819 -0.005106  0.001792\n",
      "grip        -0.008323 -0.013024  0.013098 -0.000696\n",
      "serve        0.004749 -0.023786 -0.005475 -0.001028\n",
      "short        0.003032  0.018038  0.013616  0.015102\n",
      "uber        -0.025462 -0.015259  0.018430  0.000336\n",
      "let          0.032445 -0.026652  0.020446 -0.002841\n",
      "hidayat     -0.000919  0.003969 -0.008233 -0.003271\n",
      "tumbling    -0.019365 -0.000608  0.013173  0.003006\n",
      "flick        0.030251 -0.003842 -0.005851 -0.004056\n",
      "singles      0.013484 -0.015070 -0.008000  0.014659\n",
      "ace          0.006922 -0.026759 -0.009003 -0.001352\n",
      "string       0.007838  0.009135 -0.000987  0.005457\n",
      "yonex        0.027140 -0.004171 -0.001471 -0.003108\n",
      "service      0.039879  0.000914  0.009564  0.018740\n",
      "court       -0.023500 -0.005854  0.005628  0.004331\n",
      "referee     -0.026992 -0.018973  0.016922  0.006132\n",
      "baddy       -0.059942  0.011368 -0.003493 -0.003828\n",
      "feathers     0.030796 -0.021161  0.020043  0.003004\n",
      "shuttlecock  0.113724  0.002669  0.026402  0.005825\n",
      "feather      0.014627  0.007212  0.016402  0.000356\n",
      "rally        0.002341  0.007077  0.008114  0.012413\n",
      "saina        0.056985  0.023431  0.013238  0.007118\n",
      "smash       -0.004141  0.000946  0.010677  0.007577\n",
      "deception   -0.001772 -0.016295 -0.016425 -0.005700\n",
      "net         -0.007705  0.006585  0.023157  0.000253\n",
      "backcourt    0.000484 -0.018232 -0.004971  0.001295\n",
      "racquet     -0.027016 -0.011722 -0.001562  0.005056\n",
      "dribble     -0.026693 -0.011431  0.007817  0.001476\n"
     ]
    }
   ],
   "source": [
    "p = cal_diff('cosine0/cos_badminton_novice0.txt','cosine1/cos_badminton_novice1.txt')\n",
    "p1 = cal_diff('cosine1/cos_badminton_novice1.txt','cosine2/cos_badminton_novice2.txt')\n",
    "p2 = cal_diff('cosine2/cos_badminton_novice2.txt','cosine3/cos_badminton_novice3.txt')\n",
    "p3 = cal_diff('cosine3/cos_badminton_novice3.txt','cosine4/cos_badminton_novice4.txt')\n",
    "p4 = pd.DataFrame(index=p.index)\n",
    "p4['e0-e1'] = p['difference']\n",
    "p4['e1-e2'] = p1['difference']\n",
    "p4['e2-e3'] = p2['difference']\n",
    "p4['e3-e4'] = p3['difference']\n",
    "print(p4)"
   ]
  },
  {
   "cell_type": "code",
   "execution_count": 21,
   "metadata": {},
   "outputs": [
    {
     "name": "stdout",
     "output_type": "stream",
     "text": [
      "                  e0-e1     e1-e2     e2-e3     e3-e4\n",
      "word                                                 \n",
      "sweat          0.088255  0.042243  0.011166  0.004578\n",
      "choreo         0.008036  0.071447  0.008297  0.023007\n",
      "disco          0.005090  0.053274  0.018494  0.039209\n",
      "footloose      0.020899  0.004381  0.016302  0.011263\n",
      "sneakers       0.035244  0.015757  0.012076  0.037689\n",
      "tap            0.053175  0.038980 -0.002522  0.011691\n",
      "tango         -0.024690  0.040198  0.033939  0.029286\n",
      "dabke          0.053146  0.029082  0.004129 -0.004070\n",
      "exercise       0.007068 -0.003594 -0.014243 -0.024243\n",
      "culture        0.046203  0.000144  0.004757  0.029212\n",
      "dancefloor    -0.000984  0.024716  0.020457  0.019583\n",
      "natyam         0.054670  0.025715 -0.002757  0.004635\n",
      "salsa          0.010916  0.025975  0.016279  0.018017\n",
      "therapy       -0.004687  0.016180  0.005486  0.010225\n",
      "choreography   0.031674  0.021358  0.028268  0.020901\n",
      "hop            0.027411 -0.004191  0.045149  0.060595\n",
      "music          0.047419  0.035162  0.029667  0.083947\n",
      "breakdance     0.047815  0.044937  0.000475  0.009044\n",
      "rhythm         0.017653  0.025393  0.039897  0.027271\n",
      "choreographer -0.026955  0.061978  0.010635  0.020441\n",
      "bellydance     0.035937  0.000463  0.027747  0.015348\n",
      "stepup         0.006575  0.006128 -0.003745 -0.010116\n",
      "lavani         0.040313  0.013550 -0.004656  0.002167\n",
      "acrobatic     -0.036596  0.030961  0.004472  0.014879\n",
      "streetdance    0.012528  0.006028 -0.000276  0.013599\n",
      "ballet         0.015851  0.042593  0.030003  0.027855\n",
      "folkdance      0.065693  0.059908 -0.004877 -0.000763\n",
      "steps         -0.014135  0.026168 -0.006470 -0.002542\n",
      "kathak         0.007137  0.010629 -0.021015  0.004216\n"
     ]
    }
   ],
   "source": [
    "p = cal_diff('cosine0/cos_dance_novice0.txt','cosine1/cos_dance_novice1.txt')\n",
    "p1 = cal_diff('cosine1/cos_dance_novice1.txt','cosine2/cos_dance_novice2.txt')\n",
    "p2 = cal_diff('cosine2/cos_dance_novice2.txt','cosine3/cos_dance_novice3.txt')\n",
    "p3 = cal_diff('cosine3/cos_dance_novice3.txt','cosine4/cos_dance_novice4.txt')\n",
    "p4 = pd.DataFrame(index=p.index)\n",
    "p4['e0-e1'] = p['difference']\n",
    "p4['e1-e2'] = p1['difference']\n",
    "p4['e2-e3'] = p2['difference']\n",
    "p4['e3-e4'] = p3['difference']\n",
    "print(p4)"
   ]
  },
  {
   "cell_type": "code",
   "execution_count": 22,
   "metadata": {},
   "outputs": [
    {
     "name": "stdout",
     "output_type": "stream",
     "text": [
      "                e0-e1     e1-e2     e2-e3     e3-e4\n",
      "word                                               \n",
      "strike      -0.007917  0.012388  0.026010  0.010777\n",
      "twitch      -0.004838  0.022176  0.005411  0.005672\n",
      "mode        -0.009722  0.021822 -0.007804  0.021635\n",
      "respawn      0.017169 -0.015676  0.014422  0.010440\n",
      "xbox         0.032339  0.022756 -0.014646  0.009067\n",
      "weapons     -0.001475 -0.007772 -0.004381  0.004294\n",
      "power       -0.036705  0.039997 -0.001491  0.018145\n",
      "player      -0.037205  0.061451  0.043256  0.012105\n",
      "rpg          0.003312  0.029112 -0.000392  0.004689\n",
      "military    -0.017339 -0.005710  0.015463  0.001761\n",
      "computer    -0.005855  0.020214  0.012021  0.010289\n",
      "unreal       0.015738 -0.007185 -0.001833  0.003262\n",
      "fortnite     0.012238 -0.001759  0.002946  0.003368\n",
      "bomb         0.033527 -0.015892  0.020484  0.019230\n",
      "looking      0.013285  0.006230 -0.003701 -0.001244\n",
      "bots         0.005839  0.012133  0.006932  0.011510\n",
      "map          0.015909 -0.004409  0.006735  0.001128\n",
      "team        -0.002017 -0.014387  0.052717  0.019451\n",
      "features    -0.022632 -0.003122  0.007457  0.006463\n",
      "fps          0.019550  0.010325  0.005495  0.008726\n",
      "engine      -0.007624  0.012245  0.033388  0.014440\n",
      "person      -0.023229  0.031798  0.020273 -0.009586\n",
      "playstation  0.008513  0.013829  0.013218  0.009831\n",
      "deathmatch  -0.036440  0.000555 -0.003308  0.005283\n",
      "point        0.017861  0.004714  0.028604  0.021071\n",
      "terrorist    0.008567  0.006756 -0.002225  0.012447\n",
      "games        0.003520 -0.000069  0.024567 -0.004420\n",
      "gameplay    -0.016333  0.030628 -0.000480  0.003853\n",
      "multiplayer -0.008587  0.002855 -0.004584  0.010269\n",
      "space        0.019196 -0.018348  0.017394  0.008652\n",
      "movement    -0.001110  0.005801 -0.003071 -0.002242\n",
      "levels      -0.051105  0.016625  0.002660  0.020575\n",
      "first       -0.010439 -0.022218  0.004022  0.036119\n",
      "players     -0.046905  0.042538  0.009264  0.004986\n",
      "frag        -0.022335  0.006250 -0.011802  0.009346\n",
      "third       -0.020431  0.000584  0.048944  0.031084\n",
      "display      0.001308  0.010260  0.005848  0.018606\n",
      "chief       -0.049429 -0.014961 -0.004582  0.002998\n",
      "mission      0.012095 -0.015110  0.008606  0.010467\n",
      "gib         -0.006362  0.001331  0.007520  0.007040\n",
      "doom         0.026417  0.026941  0.004096  0.008891\n",
      "puzzle       0.012542  0.007572  0.005161  0.006226\n",
      "tournament  -0.017106  0.021024 -0.000118  0.024769\n",
      "enemies      0.024978 -0.014730  0.011347  0.007647\n",
      "gun          0.023162  0.017889  0.020913  0.019131\n",
      "fighting    -0.048388  0.005986 -0.004084  0.014182\n",
      "precise     -0.019590  0.013297  0.003954  0.008380\n",
      "reaction    -0.017764 -0.015048  0.001429  0.001294\n",
      "halo         0.019978  0.020458  0.016181  0.007916\n",
      "quake       -0.010342  0.005313  0.001318  0.006252\n",
      "rifle       -0.023633  0.016474  0.020222  0.004133\n"
     ]
    }
   ],
   "source": [
    "p = cal_diff('cosine0/cos_shooter_novice0.txt','cosine1/cos_shooter_novice1.txt')\n",
    "p1 = cal_diff('cosine1/cos_shooter_novice1.txt','cosine2/cos_shooter_novice2.txt')\n",
    "p2 = cal_diff('cosine2/cos_shooter_novice2.txt','cosine3/cos_shooter_novice3.txt')\n",
    "p3 = cal_diff('cosine3/cos_shooter_novice3.txt','cosine4/cos_shooter_novice4.txt')\n",
    "p4 = pd.DataFrame(index=p.index)\n",
    "p4['e0-e1'] = p['difference']\n",
    "p4['e1-e2'] = p1['difference']\n",
    "p4['e2-e3'] = p2['difference']\n",
    "p4['e3-e4'] = p3['difference']\n",
    "print(p4)"
   ]
  },
  {
   "cell_type": "code",
   "execution_count": 23,
   "metadata": {},
   "outputs": [
    {
     "name": "stdout",
     "output_type": "stream",
     "text": [
      "                     e0-e1     e1-e2     e2-e3     e3-e4\n",
      "word                                                    \n",
      "conditioning     -0.021099 -0.008408  0.006282  0.005851\n",
      "hospital          0.002697  0.019042  0.001796  0.010223\n",
      "cbt              -0.013015  0.013743  0.002909 -0.001085\n",
      "medication       -0.003187 -0.015497  0.007408  0.002816\n",
      "ruminates        -0.027106 -0.001020  0.006534 -0.000315\n",
      "brooding         -0.008037  0.007934  0.006348  0.001019\n",
      "ect               0.015887  0.007093  0.003305  0.003607\n",
      "trichotillomania -0.044488 -0.008216  0.006742 -0.002507\n",
      "ruminated        -0.012277 -0.001807 -0.015923 -0.000427\n",
      "ruminating        0.003450 -0.003395  0.004502 -0.001572\n",
      "inhibitor        -0.009649 -0.003037 -0.004178  0.005381\n",
      "response          0.004117 -0.002801  0.011825  0.020428\n",
      "health           -0.009999  0.052312  0.015142  0.042194\n",
      "mental            0.009793  0.030480  0.033972  0.015974\n",
      "ssri              0.015144 -0.000532  0.004224  0.001999\n",
      "ocd              -0.018889 -0.002597  0.000008 -0.001262\n",
      "reinforcement    -0.010522  0.002806 -0.002710  0.001476\n",
      "psychosurgery     0.015806 -0.019416 -0.001420  0.002542\n",
      "antidepressants  -0.023280 -0.010551 -0.001708 -0.001554\n",
      "placebo          -0.001985 -0.000268  0.006753 -0.000267\n",
      "serotonin         0.003261 -0.002229 -0.001044 -0.000275\n",
      "ruminate         -0.028973 -0.007181  0.001223 -0.000175\n",
      "sleep             0.010468 -0.015491  0.004058  0.004727\n",
      "addiction        -0.022980  0.016640  0.012510  0.008773\n",
      "exposure          0.043282 -0.007750  0.009840  0.012574\n",
      "stimulus          0.000639  0.024548  0.000113  0.015718\n",
      "freud            -0.035606  0.016199  0.025407  0.000187\n"
     ]
    }
   ],
   "source": [
    "p = cal_diff('cosine0/cos_psychotherapy_novice0.txt','cosine1/cos_psychotherapy_novice1.txt')\n",
    "p1 = cal_diff('cosine1/cos_psychotherapy_novice1.txt','cosine2/cos_psychotherapy_novice2.txt')\n",
    "p2 = cal_diff('cosine2/cos_psychotherapy_novice2.txt','cosine3/cos_psychotherapy_novice3.txt')\n",
    "p3 = cal_diff('cosine3/cos_psychotherapy_novice3.txt','cosine4/cos_psychotherapy_novice4.txt')\n",
    "p4 = pd.DataFrame(index=p.index)\n",
    "p4['e0-e1'] = p['difference']\n",
    "p4['e1-e2'] = p1['difference']\n",
    "p4['e2-e3'] = p2['difference']\n",
    "p4['e3-e4'] = p3['difference']\n",
    "print(p4)"
   ]
  },
  {
   "cell_type": "code",
   "execution_count": null,
   "metadata": {},
   "outputs": [],
   "source": []
  }
 ],
 "metadata": {
  "kernelspec": {
   "display_name": "Python 3",
   "language": "python",
   "name": "python3"
  },
  "language_info": {
   "codemirror_mode": {
    "name": "ipython",
    "version": 3
   },
   "file_extension": ".py",
   "mimetype": "text/x-python",
   "name": "python",
   "nbconvert_exporter": "python",
   "pygments_lexer": "ipython3",
   "version": "3.6.4"
  }
 },
 "nbformat": 4,
 "nbformat_minor": 2
}
