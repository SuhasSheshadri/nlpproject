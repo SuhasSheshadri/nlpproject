{
 "cells": [
  {
   "cell_type": "code",
   "execution_count": 1,
   "metadata": {},
   "outputs": [],
   "source": [
    "import pandas as pd\n",
    "import matplotlib.pyplot as plt "
   ]
  },
  {
   "cell_type": "code",
   "execution_count": 7,
   "metadata": {},
   "outputs": [],
   "source": [
    "dance_e = [('dancing', 0.7267205715179443), ('dances', 0.6889135837554932), ('dancers', 0.6286635994911194), ('music', 0.5804781913757324), ('choreography', 0.5773999691009521), ('danced', 0.5539893507957458), ('disco', 0.5494018793106079), ('bellydance', 0.546377420425415), ('salsa', 0.544677734375), ('kecak', 0.541404128074646), ('krumping', 0.5409338474273682), ('singing', 0.5403105616569519), ('musical', 0.5364377498626709), ('breakdance', 0.535659670829773), ('dancer', 0.5315796732902527), ('sirtaki', 0.5295983552932739), ('breakdancing', 0.5278482437133789), ('unsquare', 0.5245838165283203), ('voguing', 0.5231715440750122), ('rumba', 0.5223628282546997), ('ballet', 0.5210082530975342), ('jitterbug', 0.520909309387207), ('twerking', 0.5207229256629944), ('samba', 0.5156647562980652), ('rhumba', 0.5130436420440674), ('pangalay', 0.512590765953064), ('tango', 0.5125686526298523), ('butoh', 0.5123826265335083), ('bellydancing', 0.512147843837738), ('pasodoble', 0.5100505352020264), ('streetdance', 0.506986677646637), ('folkdance', 0.503905177116394), ('khigga', 0.5029377937316895), ('tsamikos', 0.501270592212677), ('choreographs', 0.500847578048706), ('denishawn', 0.4994391202926636), ('flamenco', 0.49846428632736206), ('striptease', 0.4981211721897125), ('legong', 0.49699461460113525), ('iwanson', 0.4958818256855011), ('jazz', 0.49584782123565674), ('karaoke', 0.49356240034103394), ('batusi', 0.49346381425857544), ('ダンス', 0.49233999848365784), ('krump', 0.49222123622894287), ('bhangra', 0.49186599254608154), ('danse', 0.49098214507102966), ('lambada', 0.4903687834739685), ('tinikling', 0.49001920223236084), ('bedhaya', 0.4890229105949402), ('cabaret', 0.4889752268791199), ('bugaku', 0.48742109537124634), ('jabbawockeez', 0.48555153608322144), ('syrtaki', 0.48389577865600586), ('jwé', 0.48338407278060913), ('choreographing', 0.4817468225955963), ('lezim', 0.4806444048881531), ('tandava', 0.48049652576446533), ('cakewalk', 0.48023325204849243), ('candoco', 0.4797334671020508), ('sing', 0.4786102771759033), ('choreographer', 0.47821807861328125), ('dandiya', 0.4779760241508484), ('csárdás', 0.47746819257736206), ('pyrrhichios', 0.4770819842815399), ('choreographed', 0.47674036026000977), ('danza', 0.47546279430389404), ('kopačka', 0.4747996926307678), ('jaipongan', 0.4737497568130493), ('choreographies', 0.47335612773895264), ('handbalancing', 0.4729920029640198), ('euromix', 0.471910297870636), ('hopak', 0.47077009081840515), ('pilobolus', 0.47075745463371277), ('acrobatics', 0.47039929032325745), ('cueca', 0.4702339768409729), ('frikar', 0.46985217928886414), ('chholiya', 0.469664990901947), ('bodyvox', 0.46903419494628906), ('댄스', 0.46678590774536133), ('choreograph', 0.4667123854160309), ('choreographic', 0.46566125750541687), ('kizomba', 0.4653569459915161), ('volkspele', 0.46499359607696533), ('merengue', 0.4646386504173279), ('pop', 0.46391913294792175), ('pendet', 0.4633847177028656), ('zapateado', 0.4628486633300781), ('dantza', 0.4628228545188904), ('cumbia', 0.46134886145591736), ('kalamatianos', 0.4605782628059387), ('showdance', 0.4602855443954468), ('kumha', 0.4602222442626953), ('song', 0.459705114364624), ('nritarutya', 0.45859265327453613), ('festejo', 0.4582628607749939), ('tandav', 0.45790499448776245), ('dabke', 0.45744919776916504), ('veeragase', 0.45733457803726196), ('zeibekiko', 0.4568095803260803)]"
   ]
  },
  {
   "cell_type": "code",
   "execution_count": 8,
   "metadata": {},
   "outputs": [],
   "source": [
    "dance_n = [('dancing', 0.7410987615585327), ('dances', 0.706737756729126), ('dancers', 0.6381820440292358), ('music', 0.6035791039466858), ('choreography', 0.5830423831939697), ('danced', 0.5708385705947876), ('singing', 0.5694721341133118), ('kecak', 0.5576155185699463), ('rhumba', 0.5565808415412903), ('musical', 0.5555469989776611), ('voguing', 0.5539463758468628), ('disco', 0.5532910823822021), ('salsa', 0.5521809458732605), ('ballet', 0.5481369495391846), ('breakdancing', 0.5470697283744812), ('tango', 0.5427380800247192), ('jitterbug', 0.5418741106987), ('breakdance', 0.5348687767982483), ('bhangra', 0.5313161015510559), ('choreographies', 0.5288660526275635), ('rumba', 0.5253860950469971), ('pilobolus', 0.5249592065811157), ('dancer', 0.5234674215316772), ('flamenco', 0.5219690799713135), ('lambada', 0.5214273929595947), ('cabaret', 0.5211074352264404), ('mujra', 0.521029531955719), ('jazz', 0.5179800391197205), ('kizomba', 0.5162326097488403), ('schuhplattler', 0.5137910842895508), ('chhau', 0.51250159740448), ('krumping', 0.5110188126564026), ('unsquare', 0.5101602077484131), ('candoco', 0.506035566329956), ('denishawn', 0.5045046806335449), ('dollu', 0.50331711769104), ('zapateado', 0.500874936580658), ('giddha', 0.5001895427703857), ('bikutsi', 0.49983853101730347), ('karaoke', 0.49917832016944885), ('ghoomar', 0.4984200596809387), ('aerobics', 0.4958539307117462), ('samba', 0.49483659863471985), ('choreographed', 0.49405157566070557), ('choreographs', 0.4927699565887451), ('bélé', 0.4916221499443054), ('pop', 0.49145203828811646), ('quadrille', 0.4914470911026001), ('krump', 0.4907468855381012), ('butoh', 0.4897001087665558), ('folklorico', 0.4894248843193054), ('pangalay', 0.48684439063072205), ('striptease', 0.486661434173584), ('tandava', 0.4837636947631836), ('orchesis', 0.4834107756614685), ('xibelani', 0.4832596778869629), ('sirtaki', 0.48308220505714417), ('maculelê', 0.48254266381263733), ('contredanse', 0.48125332593917847), ('dancehall', 0.4785933792591095), ('cakewalk', 0.4782305657863617), ('schottische', 0.4775329530239105), ('milonga', 0.4770010709762573), ('choreographing', 0.47603222727775574), ('ballroom', 0.47556769847869873), ('azonto', 0.4749630093574524), ('sing', 0.47374409437179565), ('jaipongan', 0.47365403175354004), ('shiamak', 0.47331076860427856), ('festejo', 0.47299298644065857), ('burlesque', 0.47287026047706604), ('choreographer', 0.4727649390697479), ('twerk', 0.47186079621315), ('choreographic', 0.4718458354473114), ('jhumar', 0.47169578075408936), ('frevo', 0.4712700843811035), ('agbadza', 0.47113561630249023), ('merengue', 0.47113117575645447), ('syrtos', 0.47078245878219604), ('quickstep', 0.47043418884277344), ('legong', 0.469724178314209), ('cumbia', 0.46946412324905396), ('acrobatics', 0.46930283308029175), ('odissi', 0.46882563829421997), ('sattriya', 0.4688098728656769), ('europop', 0.4686662554740906), ('reog', 0.46850359439849854), ('mambo', 0.467933714389801), ('hooping', 0.46747449040412903), ('chorus', 0.466579794883728), ('bachata', 0.46637609601020813), ('balletic', 0.46629923582077026), ('lezim', 0.46583741903305054), ('danza', 0.46497246623039246), ('beatboxing', 0.4645744264125824), ('fandangos', 0.46432265639305115), ('bugaku', 0.4635123610496521), ('cueca', 0.4629971385002136), ('drumming', 0.4627193212509155), ('gotipua', 0.4617936611175537)]"
   ]
  },
  {
   "cell_type": "code",
   "execution_count": 21,
   "metadata": {},
   "outputs": [],
   "source": [
    "df = pd.DataFrame(dance_e,columns=['expert','score'])\n",
    "del df['score']"
   ]
  },
  {
   "cell_type": "code",
   "execution_count": 22,
   "metadata": {},
   "outputs": [],
   "source": [
    "df1 = pd.DataFrame(dance_n,columns=['novice','score'])\n",
    "del df1['score']"
   ]
  },
  {
   "cell_type": "code",
   "execution_count": 23,
   "metadata": {},
   "outputs": [],
   "source": [
    "new = df.join(df1)"
   ]
  },
  {
   "cell_type": "code",
   "execution_count": 25,
   "metadata": {},
   "outputs": [],
   "source": [
    "e = list(new['expert'])\n",
    "n = list(new['novice'])"
   ]
  },
  {
   "cell_type": "code",
   "execution_count": 29,
   "metadata": {},
   "outputs": [],
   "source": [
    "unique_in_e = []\n",
    "for i in e:\n",
    "    if i not in n:\n",
    "        unique_in_e.append(i)            "
   ]
  },
  {
   "cell_type": "code",
   "execution_count": 31,
   "metadata": {},
   "outputs": [],
   "source": [
    "unique_in_n = []\n",
    "for i in n:\n",
    "    if i not in e:\n",
    "        unique_in_n.append(i)  "
   ]
  },
  {
   "cell_type": "code",
   "execution_count": 34,
   "metadata": {},
   "outputs": [
    {
     "name": "stdout",
     "output_type": "stream",
     "text": [
      "['bellydance', 'twerking', 'bellydancing', 'pasodoble', 'streetdance', 'folkdance', 'khigga', 'tsamikos', 'iwanson', 'batusi', 'ダンス', 'danse', 'tinikling', 'bedhaya', 'jabbawockeez', 'syrtaki', 'jwé', 'dandiya', 'csárdás', 'pyrrhichios', 'kopačka', 'handbalancing', 'euromix', 'hopak', 'frikar', 'chholiya', 'bodyvox', '댄스', 'choreograph', 'volkspele', 'pendet', 'dantza', 'kalamatianos', 'showdance', 'kumha', 'song', 'nritarutya', 'tandav', 'dabke', 'veeragase', 'zeibekiko']\n",
      "['mujra', 'schuhplattler', 'chhau', 'dollu', 'giddha', 'bikutsi', 'ghoomar', 'aerobics', 'bélé', 'quadrille', 'folklorico', 'orchesis', 'xibelani', 'maculelê', 'contredanse', 'dancehall', 'schottische', 'milonga', 'ballroom', 'azonto', 'shiamak', 'burlesque', 'twerk', 'jhumar', 'frevo', 'agbadza', 'syrtos', 'quickstep', 'odissi', 'sattriya', 'europop', 'reog', 'mambo', 'hooping', 'chorus', 'bachata', 'balletic', 'beatboxing', 'fandangos', 'drumming', 'gotipua']\n"
     ]
    }
   ],
   "source": [
    "print(unique_in_e)\n",
    "print(unique_in_n)"
   ]
  },
  {
   "cell_type": "code",
   "execution_count": null,
   "metadata": {},
   "outputs": [],
   "source": []
  }
 ],
 "metadata": {
  "kernelspec": {
   "display_name": "Python 3",
   "language": "python",
   "name": "python3"
  },
  "language_info": {
   "codemirror_mode": {
    "name": "ipython",
    "version": 3
   },
   "file_extension": ".py",
   "mimetype": "text/x-python",
   "name": "python",
   "nbconvert_exporter": "python",
   "pygments_lexer": "ipython3",
   "version": "3.6.4"
  }
 },
 "nbformat": 4,
 "nbformat_minor": 2
}
