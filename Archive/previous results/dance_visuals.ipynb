{
 "cells": [
  {
   "cell_type": "code",
   "execution_count": 40,
   "metadata": {},
   "outputs": [],
   "source": [
    "import pandas as pd\n",
    "import matplotlib.pyplot as plt "
   ]
  },
  {
   "cell_type": "code",
   "execution_count": 14,
   "metadata": {},
   "outputs": [],
   "source": [
    "#cosine similarity\n",
    "expert = {'music' : 0.5804783, 'jump' : 0.21390763, 'move' : 0.11818842, 'sweat' : 0.29955205, 'culture' : 0.22086096, 'skip' : 0.14760372, 'ballet' : 0.5210084, 'energy' : -0.00047252554, 'social' : 0.06305716, 'exercise' : 0.15127751, 'therapy' : 0.16930476, 'hop' : 0.4118433, 'theatre' : 0.36849377, 'choreo' : 0.40053758, 'disco' : 0.5494019, 'hustle' : 0.24229586, 'tango' : 0.5125687, 'turn' : 0.101311445, 'express' : 0.041645236, 'salsa' : 0.5446777}"
   ]
  },
  {
   "cell_type": "code",
   "execution_count": 3,
   "metadata": {},
   "outputs": [],
   "source": [
    "#cosine similarity\n",
    "novice = {'express':0.02764504,'energy':0.009163922,'therapy':0.16058493,'hop':0.44573873,'jump':0.23341545,'hustle':0.22348887,'culture':0.23564133,'move':0.0848287,'choreo':0.3001919,'tango':0.54273814,'disco':0.5532911,'salsa':0.5521809,'ballet':0.54813695,'exercise':0.13884877,'music':0.6035791,'turn':0.08097299,'skip':0.19104849,'theatre':0.39220625,'social':0.059141815,'sweat':0.26551065}"
   ]
  },
  {
   "cell_type": "code",
   "execution_count": 36,
   "metadata": {},
   "outputs": [],
   "source": [
    "df = pd.Series(expert).to_frame()\n",
    "df.columns = ['expert']\n",
    "df1 = pd.Series(novice).to_frame()\n",
    "df1.columns = ['novice']"
   ]
  },
  {
   "cell_type": "code",
   "execution_count": 37,
   "metadata": {},
   "outputs": [],
   "source": [
    "new = df.join(df1)"
   ]
  },
  {
   "cell_type": "code",
   "execution_count": 38,
   "metadata": {},
   "outputs": [
    {
     "data": {
      "text/html": [
       "<div>\n",
       "<style scoped>\n",
       "    .dataframe tbody tr th:only-of-type {\n",
       "        vertical-align: middle;\n",
       "    }\n",
       "\n",
       "    .dataframe tbody tr th {\n",
       "        vertical-align: top;\n",
       "    }\n",
       "\n",
       "    .dataframe thead th {\n",
       "        text-align: right;\n",
       "    }\n",
       "</style>\n",
       "<table border=\"1\" class=\"dataframe\">\n",
       "  <thead>\n",
       "    <tr style=\"text-align: right;\">\n",
       "      <th></th>\n",
       "      <th>expert</th>\n",
       "      <th>novice</th>\n",
       "    </tr>\n",
       "  </thead>\n",
       "  <tbody>\n",
       "    <tr>\n",
       "      <th>music</th>\n",
       "      <td>0.580478</td>\n",
       "      <td>0.603579</td>\n",
       "    </tr>\n",
       "    <tr>\n",
       "      <th>jump</th>\n",
       "      <td>0.213908</td>\n",
       "      <td>0.233415</td>\n",
       "    </tr>\n",
       "    <tr>\n",
       "      <th>move</th>\n",
       "      <td>0.118188</td>\n",
       "      <td>0.084829</td>\n",
       "    </tr>\n",
       "    <tr>\n",
       "      <th>sweat</th>\n",
       "      <td>0.299552</td>\n",
       "      <td>0.265511</td>\n",
       "    </tr>\n",
       "    <tr>\n",
       "      <th>culture</th>\n",
       "      <td>0.220861</td>\n",
       "      <td>0.235641</td>\n",
       "    </tr>\n",
       "    <tr>\n",
       "      <th>skip</th>\n",
       "      <td>0.147604</td>\n",
       "      <td>0.191048</td>\n",
       "    </tr>\n",
       "    <tr>\n",
       "      <th>ballet</th>\n",
       "      <td>0.521008</td>\n",
       "      <td>0.548137</td>\n",
       "    </tr>\n",
       "    <tr>\n",
       "      <th>energy</th>\n",
       "      <td>-0.000473</td>\n",
       "      <td>0.009164</td>\n",
       "    </tr>\n",
       "    <tr>\n",
       "      <th>social</th>\n",
       "      <td>0.063057</td>\n",
       "      <td>0.059142</td>\n",
       "    </tr>\n",
       "    <tr>\n",
       "      <th>exercise</th>\n",
       "      <td>0.151278</td>\n",
       "      <td>0.138849</td>\n",
       "    </tr>\n",
       "    <tr>\n",
       "      <th>therapy</th>\n",
       "      <td>0.169305</td>\n",
       "      <td>0.160585</td>\n",
       "    </tr>\n",
       "    <tr>\n",
       "      <th>hop</th>\n",
       "      <td>0.411843</td>\n",
       "      <td>0.445739</td>\n",
       "    </tr>\n",
       "    <tr>\n",
       "      <th>theatre</th>\n",
       "      <td>0.368494</td>\n",
       "      <td>0.392206</td>\n",
       "    </tr>\n",
       "    <tr>\n",
       "      <th>choreo</th>\n",
       "      <td>0.400538</td>\n",
       "      <td>0.300192</td>\n",
       "    </tr>\n",
       "    <tr>\n",
       "      <th>disco</th>\n",
       "      <td>0.549402</td>\n",
       "      <td>0.553291</td>\n",
       "    </tr>\n",
       "    <tr>\n",
       "      <th>hustle</th>\n",
       "      <td>0.242296</td>\n",
       "      <td>0.223489</td>\n",
       "    </tr>\n",
       "    <tr>\n",
       "      <th>tango</th>\n",
       "      <td>0.512569</td>\n",
       "      <td>0.542738</td>\n",
       "    </tr>\n",
       "    <tr>\n",
       "      <th>turn</th>\n",
       "      <td>0.101311</td>\n",
       "      <td>0.080973</td>\n",
       "    </tr>\n",
       "    <tr>\n",
       "      <th>express</th>\n",
       "      <td>0.041645</td>\n",
       "      <td>0.027645</td>\n",
       "    </tr>\n",
       "    <tr>\n",
       "      <th>salsa</th>\n",
       "      <td>0.544678</td>\n",
       "      <td>0.552181</td>\n",
       "    </tr>\n",
       "  </tbody>\n",
       "</table>\n",
       "</div>"
      ],
      "text/plain": [
       "            expert    novice\n",
       "music     0.580478  0.603579\n",
       "jump      0.213908  0.233415\n",
       "move      0.118188  0.084829\n",
       "sweat     0.299552  0.265511\n",
       "culture   0.220861  0.235641\n",
       "skip      0.147604  0.191048\n",
       "ballet    0.521008  0.548137\n",
       "energy   -0.000473  0.009164\n",
       "social    0.063057  0.059142\n",
       "exercise  0.151278  0.138849\n",
       "therapy   0.169305  0.160585\n",
       "hop       0.411843  0.445739\n",
       "theatre   0.368494  0.392206\n",
       "choreo    0.400538  0.300192\n",
       "disco     0.549402  0.553291\n",
       "hustle    0.242296  0.223489\n",
       "tango     0.512569  0.542738\n",
       "turn      0.101311  0.080973\n",
       "express   0.041645  0.027645\n",
       "salsa     0.544678  0.552181"
      ]
     },
     "execution_count": 38,
     "metadata": {},
     "output_type": "execute_result"
    }
   ],
   "source": [
    "new"
   ]
  },
  {
   "cell_type": "code",
   "execution_count": 55,
   "metadata": {},
   "outputs": [
    {
     "data": {
      "text/plain": [
       "<matplotlib.axes._subplots.AxesSubplot at 0x20163c5ada0>"
      ]
     },
     "execution_count": 55,
     "metadata": {},
     "output_type": "execute_result"
    },
    {
     "data": {
      "image/png": "[encoded data removed]",
      "text/plain": [
       "<Figure size 1080x360 with 1 Axes>"
      ]
     },
     "metadata": {},
     "output_type": "display_data"
    }
   ],
   "source": [
    "new.plot(y=[\"expert\",\"novice\"], kind=\"bar\", figsize=(15,5))"
   ]
  },
  {
   "cell_type": "code",
   "execution_count": 57,
   "metadata": {},
   "outputs": [],
   "source": [
    "expert1={'music':[('musical', 0.6750385165214539), ('jazz', 0.6286567449569702), ('dance', 0.5804782509803772), ('songs', 0.5681896805763245), ('song', 0.5607780814170837), ('pop', 0.5471701622009277), ('recording', 0.5447449684143066), ('singing', 0.5432455539703369), ('musics', 0.540534257888794), ('recordings', 0.5271351337432861)]\n",
    ",'jump':[('jumper', 0.6446946859359741), ('jumps', 0.5744927525520325), ('throw', 0.5553079843521118), ('jumping', 0.5407810211181641), ('raivydas', 0.48577797412872314), ('palšytė', 0.4709950387477875), ('metres', 0.4699239730834961), ('sagnia', 0.46922817826271057), ('hurdles', 0.4676326513290405), ('manyonga', 0.4625262916088104)]\n",
    ",'move':[('relocate', 0.6755472421646118), ('go', 0.6212712526321411), ('moving', 0.6179541945457458), ('push', 0.6069953441619873), ('moves', 0.6008820533752441), ('proceed', 0.5853326916694641), ('return', 0.577215313911438), ('pull', 0.5733307003974915), ('switch', 0.5694991946220398), ('migrate', 0.5694792866706848)]\n",
    ",'sweat':[('spurting', 0.4840720295906067), ('saliva', 0.48283958435058594), ('oozing', 0.4817768335342407), ('perspiration', 0.48050040006637573), ('sweating', 0.4787806570529938), ('breakn', 0.47477245330810547), ('dripping', 0.4742084741592407), ('drips', 0.46944761276245117), ('phlegm', 0.46793031692504883), ('sweaty', 0.46168240904808044)]\n",
    ",'culture':[('cultural', 0.6813678741455078), ('cultures', 0.6302030086517334), ('literature', 0.5580006837844849), ('spirituality', 0.5348378419876099), ('modernity', 0.5333651900291443), ('ethnography', 0.5308323502540588), ('folklore', 0.5303653478622437), ('aesthetics', 0.5209493637084961), ('traditions', 0.5156645774841309), ('civilization', 0.5154818296432495)]\n",
    ",'skip':[('thivya', 0.531683623790741), ('skipped', 0.5160447359085083), ('nedohin', 0.5070435404777527), ('ferbey', 0.5018658638000488), ('jeyaranjan', 0.5011481046676636), ('middaugh', 0.48708248138427734), ('curling', 0.47324055433273315), ('skips', 0.4712655544281006), ('jungnell', 0.46611177921295166), ('skipping', 0.46523961424827576)]\n",
    ",'ballet':[('opera', 0.6458088159561157), ('ballets', 0.6433756947517395), ('ballerina', 0.6012005805969238), ('choreographer', 0.5981091260910034), ('choreographic', 0.5968543291091919), ('coppélia', 0.5873120427131653), ('raymonda', 0.5854593515396118), ('nijinska', 0.5834189653396606), ('theatre', 0.5782241821289062), ('orchestra', 0.5606397986412048)]\n",
    ",'energy':[('energies', 0.609016478061676), ('electricity', 0.5981665849685669), ('bioenergy', 0.5926709175109863), ('fuels', 0.555880069732666), ('biofuels', 0.5529033541679382), ('fotowatio', 0.551298975944519), ('efficiency', 0.5488070845603943), ('power', 0.544838547706604), ('renewables', 0.5375820398330688), ('biomass', 0.5363606810569763)]\n",
    ",'social':[('societal', 0.6893529891967773), ('socio', 0.6414198279380798), ('institutional', 0.5952924489974976), ('sociocultural', 0.5948184132575989), ('cultural', 0.5644640922546387), ('organizational', 0.5600090622901917), ('political', 0.5564714074134827), ('sociopolitical', 0.5559142827987671), ('globalization', 0.5298573970794678), ('participatory', 0.5292928218841553)]\n",
    ",'exercise':[('exercises', 0.7082641124725342), ('exercising', 0.5790570378303528), ('rimpac', 0.5338909029960632), ('routine', 0.49959075450897217), ('balikatan', 0.49727481603622437), ('reforger', 0.48307618498802185), ('maneuvers', 0.4828757643699646), ('calisthenics', 0.47795358300209045), ('phiblex', 0.47628581523895264), ('comptuex', 0.4747117757797241)]\n",
    ",'therapy':[('therapies', 0.7230948209762573), ('psychotherapy', 0.6589312553405762), ('therapists', 0.6582632064819336), ('therapeutic', 0.653721809387207), ('therapist', 0.6373212337493896), ('treatments', 0.6302998065948486), ('treatment', 0.6109843254089355), ('hypnotherapy', 0.5768197774887085), ('pharmacotherapy', 0.5705595016479492), ('chemotherapy', 0.5663006901741028)]\n",
    ",'hop':[('rap', 0.6695748567581177), ('hopera', 0.6066703796386719), ('notic', 0.5790004730224609), ('petrohemija', 0.5783025622367859), ('hiphop', 0.5740453004837036), ('pop', 0.5536550879478455), ('linkchain', 0.553514838218689), ('reggae', 0.5523219108581543), ('taiau', 0.5446074604988098), ('dancehall', 0.5350292921066284)]\n",
    ",'theatre':[('theater', 0.8526325225830078), ('playhouse', 0.6714755892753601), ('theatres', 0.6313433647155762), ('opera', 0.6056551933288574), ('repertory', 0.6031273603439331), ('théâtre', 0.5852342247962952), ('ballet', 0.5782241821289062), ('theatreworks', 0.5735474228858948), ('teatro', 0.5581409335136414), ('broadway', 0.5572571158409119)]\n",
    ",'choreo':[('malaguena', 0.5553009510040283), ('mrvica', 0.5512455701828003), ('boléro', 0.5133751630783081), ('choreographed', 0.5109744071960449), ('choreography', 0.5099334716796875), ('libertango', 0.509353518486023), ('dupere', 0.5042052865028381), ('tchaikovski', 0.5002967119216919), ('khachaturian', 0.49188220500946045), ('rachmaninov', 0.49126577377319336)]\n",
    ",'disco':[('pop', 0.6206839084625244), ('remix', 0.5988214015960693), ('funk', 0.5984323024749756), ('reggae', 0.5851552486419678), ('europop', 0.583548367023468), ('funky', 0.5819610357284546), ('megamix', 0.580426037311554), ('dancehall', 0.574123203754425), ('eurodance', 0.5705128908157349), ('electroclash', 0.5696157217025757)]\n",
    ",'hustle':[('puba', 0.5510708093643188), ('xzibit', 0.4793926477432251), ('skyzoo', 0.4770351052284241), ('mystikal', 0.46917957067489624), ('twista', 0.4686303436756134), ('dollaz', 0.46861743927001953), ('pimpin', 0.467848002910614), ('ugk', 0.4656720757484436), ('gangsta', 0.4648935794830322), ('choclair', 0.4647267162799835)]\n",
    ",'tango':[('rumba', 0.6731592416763306), ('milonga', 0.6500526666641235), ('foxtrot', 0.6335015296936035), ('waltz', 0.6317101120948792), ('pasodoble', 0.6285504102706909), ('丹後守', 0.62640380859375), ('quickstep', 0.6081501245498657), ('bolero', 0.6043142676353455), ('salsa', 0.6010380983352661), ('samba', 0.5953616499900818)]\n",
    ",'turn':[('move', 0.5379884243011475), ('turning', 0.52414470911026), ('turns', 0.5178461074829102), ('pull', 0.5020151138305664), ('get', 0.5007165670394897), ('push', 0.4888949990272522), ('look', 0.47801485657691956), ('drop', 0.4677879214286804), ('break', 0.4645639657974243), ('bounce', 0.44846200942993164)]\n",
    ",'express':[('intercity', 0.48260292410850525), ('demu', 0.46251124143600464), ('amtrak', 0.45709508657455444), ('megabus', 0.4552028179168701), ('kochuveli', 0.4509275555610657), ('hwh', 0.4487156569957733), ('trains', 0.43968096375465393), ('xplorer', 0.43053340911865234), ('xpt', 0.42850321531295776), ('antyodaya', 0.4273894727230072)]\n",
    ",'salsa':[('merengue', 0.7776713967323303), ('cumbia', 0.7558670043945312), ('rumba', 0.7167106866836548), ('bachata', 0.7050883769989014), ('festejo', 0.6904388070106506), ('guaracha', 0.6887272596359253), ('aguanile', 0.663180947303772), ('reggaeton', 0.6574469804763794), ('maricielo', 0.6487175226211548), ('charanga', 0.6453500390052795)]}"
   ]
  },
  {
   "cell_type": "code",
   "execution_count": 58,
   "metadata": {},
   "outputs": [],
   "source": [
    "novice1={'express':[('megabus', 0.4662359356880188), ('intercity', 0.4501386284828186), ('antyodaya', 0.4404931366443634), ('expressing', 0.42644184827804565), ('xpt', 0.425495982170105), ('amtrak', 0.4230532646179199), ('motorcoach', 0.41463059186935425), ('sampark', 0.4130679965019226), ('acela', 0.41270530223846436), ('thalys', 0.4119224548339844)]\n",
    ",'energy':[('energies', 0.6220363974571228), ('electricity', 0.5864507555961609), ('efficiency', 0.5654931664466858), ('bioenergy', 0.5644578337669373), ('exergy', 0.5590431094169617), ('fuels', 0.5443792343139648), ('renewables', 0.5438413023948669), ('biofuels', 0.54046630859375), ('biomass', 0.5373197793960571), ('power', 0.5313614010810852)]\n",
    ",'therapy':[('therapies', 0.7262734770774841), ('psychotherapy', 0.6551139950752258), ('therapists', 0.6491149663925171), ('therapist', 0.63447105884552), ('treatments', 0.6307684183120728), ('therapeutic', 0.620594322681427), ('treatment', 0.6114627718925476), ('chemotherapy', 0.6108567714691162), ('pharmacotherapy', 0.5949303507804871), ('phototherapy', 0.5862945318222046)]\n",
    ",'hop':[('rap', 0.6916329860687256), ('hopera', 0.6188939213752747), ('reggae', 0.6054159998893738), ('hop…', 0.6035350561141968), ('hiphop', 0.6030644178390503), ('dancehall', 0.5829904079437256), ('pop', 0.5811315774917603), ('crunk', 0.5699172616004944), ('dubstep', 0.5631835460662842), ('ragga', 0.561125636100769)]\n",
    ",'jump':[('jumps', 0.6615674495697021), ('jumping', 0.6204519271850586), ('jumper', 0.5982111096382141), ('throw', 0.5933486819267273), ('climb', 0.5282285809516907), ('somersault', 0.5229241847991943), ('leaping', 0.5011674761772156), ('backflip', 0.5002316236495972), ('meter', 0.4997842311859131), ('jumpers', 0.48141753673553467)]\n",
    ",'hustle':[('twista', 0.48085901141166687), ('puba', 0.48058247566223145), ('pimpin', 0.45533788204193115), ('daddy', 0.4540612995624542), ('beatz', 0.4333290457725525), ('yelawolf', 0.43307995796203613), ('mystikal', 0.4304385185241699), ('kokane', 0.428780198097229), ('fabolous', 0.42593368887901306), ('curren$y', 0.42247191071510315)]\n",
    ",'culture':[('cultural', 0.6734785437583923), ('cultures', 0.6588053107261658), ('spirituality', 0.5756005048751831), ('literature', 0.5683978199958801), ('modernity', 0.5676946043968201), ('civilization', 0.5641345977783203), ('traditions', 0.5626492500305176), ('aesthetics', 0.556581974029541), ('folklore', 0.5559623837471008), ('civilisation', 0.5512729287147522)]\n",
    ",'move':[('relocate', 0.6708950996398926), ('go', 0.6300173997879028), ('push', 0.6094293594360352), ('moving', 0.6003121733665466), ('proceed', 0.5802706480026245), ('pull', 0.5772280097007751), ('return', 0.5748500823974609), ('switch', 0.5713560581207275), ('migrate', 0.5566533207893372), ('stay', 0.5506514310836792)]\n",
    ",'choreo':[('cougarettes', 0.3775830864906311), ('worldbeat', 0.3413642644882202), ('afrobeat', 0.33652564883232117), ('breakdance', 0.32591450214385986), ('cakewalk', 0.32586610317230225), ('jitterbug', 0.3235664367675781), ('bhangra', 0.32105302810668945), ('octamed', 0.3197394609451294), ('cheerleading', 0.31940770149230957), ('freedance', 0.319018691778183)]\n",
    ",'tango':[('milonga', 0.7230159044265747), ('bolero', 0.6643229722976685), ('tangos', 0.6387612819671631), ('danzón', 0.6307093501091003), ('habanera', 0.6167387366294861), ('wango', 0.6101633906364441), ('salsa', 0.6094152927398682), ('rhumba', 0.6077288389205933), ('flamenco', 0.6073076725006104), ('丹後', 0.6072698831558228)]\n",
    ",'disco':[('europop', 0.6698512434959412), ('pop', 0.6552621126174927), ('reggae', 0.6360838413238525), ('dancehall', 0.6213338971138), ('dubstep', 0.6192378997802734), ('rockabilly', 0.6165137887001038), ('funk', 0.6138694286346436), ('electroclash', 0.6010366678237915), ('dancefloor', 0.5990554094314575), ('techno', 0.5940157771110535)]\n",
    ",'salsa':[('merengue', 0.8046220541000366), ('cumbia', 0.7503141760826111), ('bachata', 0.7391010522842407), ('rumba', 0.7302895188331604), ('reggaeton', 0.6925450563430786), ('danzón', 0.6910628080368042), ('timba', 0.684998631477356), ('charanga', 0.6801643967628479), ('guaracha', 0.6750935316085815), ('bolero', 0.6746408939361572)]\n",
    ",'ballet':[('ballets', 0.6590582132339478), ('opera', 0.6580528616905212), ('choreographer', 0.6245375275611877), ('choreographic', 0.6179386377334595), ('ballerina', 0.6000000238418579), ('theatre', 0.5950865745544434), ('balanchine', 0.5913684368133545), ('nycb', 0.5900249481201172), ('coppélia', 0.5885660648345947), ('massine', 0.5869631767272949)]\n",
    ",'exercise':[('exercises', 0.6754328012466431), ('exercising', 0.5790612101554871), ('rimpac', 0.5514653325080872), ('fleetex', 0.5039156079292297), ('sharem', 0.48305314779281616), ('reforger', 0.48232102394104004), ('calisthenic', 0.4809824824333191), ('balikatan', 0.4782242774963379), ('comptuex', 0.47796520590782166), ('tropex', 0.4711969494819641)]\n",
    ",'music':[('musical', 0.6858523488044739), ('jazz', 0.6603893041610718), ('dance', 0.6035791039466858), ('musics', 0.5865527391433716), ('songs', 0.5659032464027405), ('pop', 0.5562294721603394), ('tunes', 0.5511820316314697), ('song', 0.5468801856040955), ('singing', 0.5398259162902832), ('piano', 0.5384846925735474)]\n",
    ",'turn':[('move', 0.5174415707588196), ('turning', 0.49170830845832825), ('pull', 0.48580920696258545), ('swerve', 0.4755594730377197), ('turns', 0.4726029336452484), ('drop', 0.4578477144241333), ('get', 0.4544972777366638), ('look', 0.4543374180793762), ('throw', 0.4500924348831177), ('push', 0.44830816984176636)]\n",
    ",'skip':[('skipping', 0.5524330139160156), ('skipped', 0.5434157848358154), ('skips', 0.46541744470596313), ('go', 0.4599902629852295), ('redo', 0.45261350274086), ('homeier', 0.44948917627334595), ('schumaker', 0.4291670620441437), ('bifferty', 0.4281885623931885), ('bobby', 0.41311782598495483), ('fenson', 0.4102781414985657)]\n",
    ",'theatre':[('theater', 0.8564620614051819), ('playhouse', 0.7072219252586365), ('theatres', 0.6370741128921509), ('repertory', 0.6127030849456787), ('opera', 0.6114325523376465), ('ballet', 0.5950865745544434), ('théâtre', 0.5919075012207031), ('teatro', 0.5897177457809448), ('cinema', 0.5702126026153564), ('broadway', 0.5676271915435791)]\n",
    ",'social':[('societal', 0.7191792726516724), ('socio', 0.6392037868499756), ('sociocultural', 0.6086875200271606), ('sociopolitical', 0.5989789962768555), ('cultural', 0.5893212556838989), ('institutional', 0.5849569439888), ('political', 0.5729880928993225), ('organizational', 0.5617053508758545), ('religious', 0.5357447862625122), ('ethical', 0.5280413627624512)]\n",
    ",'sweat':[('pocari', 0.5765771865844727), ('perspiration', 0.5700954794883728), ('oozing', 0.5321716666221619), ('splattering', 0.5260846614837646), ('breakn', 0.5214592218399048), ('sweating', 0.5175590515136719), ('spurting', 0.5166917443275452), ('saliva', 0.5151323080062866), ('dripping', 0.4918380379676819), ('phlegm', 0.4906935393810272)]}"
   ]
  },
  {
   "cell_type": "code",
   "execution_count": 59,
   "metadata": {},
   "outputs": [],
   "source": [
    "sim = pd.Series(expert1).to_frame()\n",
    "sim.columns = ['expert']"
   ]
  },
  {
   "cell_type": "code",
   "execution_count": 102,
   "metadata": {},
   "outputs": [],
   "source": [
    "#key:word ; value:list of similar words\n",
    "e = {}\n",
    "for k in expert1:\n",
    "    list1=[v[0] for v in expert1[k]]\n",
    "    if k in e:\n",
    "        e[k].append(list1)\n",
    "    else:\n",
    "        e[k] = list1 "
   ]
  },
  {
   "cell_type": "code",
   "execution_count": 105,
   "metadata": {},
   "outputs": [],
   "source": [
    "n = {}\n",
    "for k in novice1:\n",
    "    list1=[v[0] for v in novice1[k]]\n",
    "    if k in n:\n",
    "        n[k].append(list1)\n",
    "    else:\n",
    "        n[k] = list1 "
   ]
  },
  {
   "cell_type": "code",
   "execution_count": 107,
   "metadata": {},
   "outputs": [],
   "source": [
    "def unique_count(similar_words):\n",
    "    b = {}\n",
    "    for key, value in similar_words.items():\n",
    "        for i in value:            \n",
    "            if i in b:  \n",
    "                b[i] += 1  \n",
    "            else:  \n",
    "                b[i] = 1 \n",
    "    return b"
   ]
  },
  {
   "cell_type": "code",
   "execution_count": 114,
   "metadata": {},
   "outputs": [
    {
     "name": "stdout",
     "output_type": "stream",
     "text": [
      "{'musical': 1, 'jazz': 1, 'dance': 1, 'songs': 1, 'song': 1, 'pop': 3, 'recording': 1, 'singing': 1, 'musics': 1, 'recordings': 1, 'jumper': 1, 'jumps': 1, 'throw': 1, 'jumping': 1, 'raivydas': 1, 'palšytė': 1, 'metres': 1, 'sagnia': 1, 'hurdles': 1, 'manyonga': 1, 'relocate': 1, 'go': 1, 'moving': 1, 'push': 2, 'moves': 1, 'proceed': 1, 'return': 1, 'pull': 2, 'switch': 1, 'migrate': 1, 'spurting': 1, 'saliva': 1, 'oozing': 1, 'perspiration': 1, 'sweating': 1, 'breakn': 1, 'dripping': 1, 'drips': 1, 'phlegm': 1, 'sweaty': 1, 'cultural': 2, 'cultures': 1, 'literature': 1, 'spirituality': 1, 'modernity': 1, 'ethnography': 1, 'folklore': 1, 'aesthetics': 1, 'traditions': 1, 'civilization': 1, 'thivya': 1, 'skipped': 1, 'nedohin': 1, 'ferbey': 1, 'jeyaranjan': 1, 'middaugh': 1, 'curling': 1, 'skips': 1, 'jungnell': 1, 'skipping': 1, 'opera': 2, 'ballets': 1, 'ballerina': 1, 'choreographer': 1, 'choreographic': 1, 'coppélia': 1, 'raymonda': 1, 'nijinska': 1, 'theatre': 1, 'orchestra': 1, 'energies': 1, 'electricity': 1, 'bioenergy': 1, 'fuels': 1, 'biofuels': 1, 'fotowatio': 1, 'efficiency': 1, 'power': 1, 'renewables': 1, 'biomass': 1, 'societal': 1, 'socio': 1, 'institutional': 1, 'sociocultural': 1, 'organizational': 1, 'political': 1, 'sociopolitical': 1, 'globalization': 1, 'participatory': 1, 'exercises': 1, 'exercising': 1, 'rimpac': 1, 'routine': 1, 'balikatan': 1, 'reforger': 1, 'maneuvers': 1, 'calisthenics': 1, 'phiblex': 1, 'comptuex': 1, 'therapies': 1, 'psychotherapy': 1, 'therapists': 1, 'therapeutic': 1, 'therapist': 1, 'treatments': 1, 'treatment': 1, 'hypnotherapy': 1, 'pharmacotherapy': 1, 'chemotherapy': 1, 'rap': 1, 'hopera': 1, 'notic': 1, 'petrohemija': 1, 'hiphop': 1, 'linkchain': 1, 'reggae': 2, 'taiau': 1, 'dancehall': 2, 'theater': 1, 'playhouse': 1, 'theatres': 1, 'repertory': 1, 'théâtre': 1, 'ballet': 1, 'theatreworks': 1, 'teatro': 1, 'broadway': 1, 'malaguena': 1, 'mrvica': 1, 'boléro': 1, 'choreographed': 1, 'choreography': 1, 'libertango': 1, 'dupere': 1, 'tchaikovski': 1, 'khachaturian': 1, 'rachmaninov': 1, 'remix': 1, 'funk': 1, 'europop': 1, 'funky': 1, 'megamix': 1, 'eurodance': 1, 'electroclash': 1, 'puba': 1, 'xzibit': 1, 'skyzoo': 1, 'mystikal': 1, 'twista': 1, 'dollaz': 1, 'pimpin': 1, 'ugk': 1, 'gangsta': 1, 'choclair': 1, 'rumba': 2, 'milonga': 1, 'foxtrot': 1, 'waltz': 1, 'pasodoble': 1, '丹後守': 1, 'quickstep': 1, 'bolero': 1, 'salsa': 1, 'samba': 1, 'move': 1, 'turning': 1, 'turns': 1, 'get': 1, 'look': 1, 'drop': 1, 'break': 1, 'bounce': 1, 'intercity': 1, 'demu': 1, 'amtrak': 1, 'megabus': 1, 'kochuveli': 1, 'hwh': 1, 'trains': 1, 'xplorer': 1, 'xpt': 1, 'antyodaya': 1, 'merengue': 1, 'cumbia': 1, 'bachata': 1, 'festejo': 1, 'guaracha': 1, 'aguanile': 1, 'reggaeton': 1, 'maricielo': 1, 'charanga': 1}\n",
      "pop:3\n",
      "push:2\n",
      "pull:2\n",
      "cultural:2\n",
      "opera:2\n",
      "reggae:2\n",
      "dancehall:2\n",
      "rumba:2\n"
     ]
    }
   ],
   "source": [
    "expert_overlappers = unique_count(e)\n",
    "print(expert_overlappers)\n",
    "for k,v in expert_overlappers.items():\n",
    "    if v>1:\n",
    "        print(k+\":\"+str(v))"
   ]
  },
  {
   "cell_type": "code",
   "execution_count": 115,
   "metadata": {},
   "outputs": [
    {
     "name": "stdout",
     "output_type": "stream",
     "text": [
      "{'megabus': 1, 'intercity': 1, 'antyodaya': 1, 'expressing': 1, 'xpt': 1, 'amtrak': 1, 'motorcoach': 1, 'sampark': 1, 'acela': 1, 'thalys': 1, 'energies': 1, 'electricity': 1, 'efficiency': 1, 'bioenergy': 1, 'exergy': 1, 'fuels': 1, 'renewables': 1, 'biofuels': 1, 'biomass': 1, 'power': 1, 'therapies': 1, 'psychotherapy': 1, 'therapists': 1, 'therapist': 1, 'treatments': 1, 'therapeutic': 1, 'treatment': 1, 'chemotherapy': 1, 'pharmacotherapy': 1, 'phototherapy': 1, 'rap': 1, 'hopera': 1, 'reggae': 2, 'hop…': 1, 'hiphop': 1, 'dancehall': 2, 'pop': 3, 'crunk': 1, 'dubstep': 2, 'ragga': 1, 'jumps': 1, 'jumping': 1, 'jumper': 1, 'throw': 2, 'climb': 1, 'somersault': 1, 'leaping': 1, 'backflip': 1, 'meter': 1, 'jumpers': 1, 'twista': 1, 'puba': 1, 'pimpin': 1, 'daddy': 1, 'beatz': 1, 'yelawolf': 1, 'mystikal': 1, 'kokane': 1, 'fabolous': 1, 'curren$y': 1, 'cultural': 2, 'cultures': 1, 'spirituality': 1, 'literature': 1, 'modernity': 1, 'civilization': 1, 'traditions': 1, 'aesthetics': 1, 'folklore': 1, 'civilisation': 1, 'relocate': 1, 'go': 2, 'push': 2, 'moving': 1, 'proceed': 1, 'pull': 2, 'return': 1, 'switch': 1, 'migrate': 1, 'stay': 1, 'cougarettes': 1, 'worldbeat': 1, 'afrobeat': 1, 'breakdance': 1, 'cakewalk': 1, 'jitterbug': 1, 'bhangra': 1, 'octamed': 1, 'cheerleading': 1, 'freedance': 1, 'milonga': 1, 'bolero': 2, 'tangos': 1, 'danzón': 2, 'habanera': 1, 'wango': 1, 'salsa': 1, 'rhumba': 1, 'flamenco': 1, '丹後': 1, 'europop': 1, 'rockabilly': 1, 'funk': 1, 'electroclash': 1, 'dancefloor': 1, 'techno': 1, 'merengue': 1, 'cumbia': 1, 'bachata': 1, 'rumba': 1, 'reggaeton': 1, 'timba': 1, 'charanga': 1, 'guaracha': 1, 'ballets': 1, 'opera': 2, 'choreographer': 1, 'choreographic': 1, 'ballerina': 1, 'theatre': 1, 'balanchine': 1, 'nycb': 1, 'coppélia': 1, 'massine': 1, 'exercises': 1, 'exercising': 1, 'rimpac': 1, 'fleetex': 1, 'sharem': 1, 'reforger': 1, 'calisthenic': 1, 'balikatan': 1, 'comptuex': 1, 'tropex': 1, 'musical': 1, 'jazz': 1, 'dance': 1, 'musics': 1, 'songs': 1, 'tunes': 1, 'song': 1, 'singing': 1, 'piano': 1, 'move': 1, 'turning': 1, 'swerve': 1, 'turns': 1, 'drop': 1, 'get': 1, 'look': 1, 'skipping': 1, 'skipped': 1, 'skips': 1, 'redo': 1, 'homeier': 1, 'schumaker': 1, 'bifferty': 1, 'bobby': 1, 'fenson': 1, 'theater': 1, 'playhouse': 1, 'theatres': 1, 'repertory': 1, 'ballet': 1, 'théâtre': 1, 'teatro': 1, 'cinema': 1, 'broadway': 1, 'societal': 1, 'socio': 1, 'sociocultural': 1, 'sociopolitical': 1, 'institutional': 1, 'political': 1, 'organizational': 1, 'religious': 1, 'ethical': 1, 'pocari': 1, 'perspiration': 1, 'oozing': 1, 'splattering': 1, 'breakn': 1, 'sweating': 1, 'spurting': 1, 'saliva': 1, 'dripping': 1, 'phlegm': 1}\n",
      "reggae:2\n",
      "dancehall:2\n",
      "pop:3\n",
      "dubstep:2\n",
      "throw:2\n",
      "cultural:2\n",
      "go:2\n",
      "push:2\n",
      "pull:2\n",
      "bolero:2\n",
      "danzón:2\n",
      "opera:2\n"
     ]
    }
   ],
   "source": [
    "novice_overlappers = unique_count(n)\n",
    "print(novice_overlappers)\n",
    "for k,v in novice_overlappers.items():\n",
    "    if v>1:\n",
    "        print(k+\":\"+str(v))"
   ]
  },
  {
   "cell_type": "code",
   "execution_count": null,
   "metadata": {},
   "outputs": [],
   "source": []
  }
 ],
 "metadata": {
  "kernelspec": {
   "display_name": "Python 3",
   "language": "python",
   "name": "python3"
  },
  "language_info": {
   "codemirror_mode": {
    "name": "ipython",
    "version": 3
   },
   "file_extension": ".py",
   "mimetype": "text/x-python",
   "name": "python",
   "nbconvert_exporter": "python",
   "pygments_lexer": "ipython3",
   "version": "3.6.4"
  }
 },
 "nbformat": 4,
 "nbformat_minor": 2
}
